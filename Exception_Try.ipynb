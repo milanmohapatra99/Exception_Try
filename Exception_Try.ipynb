{
 "cells": [
  {
   "cell_type": "code",
   "execution_count": 2,
   "id": "99b39f6f",
   "metadata": {},
   "outputs": [
    {
     "name": "stdout",
     "output_type": "stream",
     "text": [
      "press q to quit\n",
      "Enter a number:-5\n",
      "press q to quit\n",
      "Enter a number:-8\n",
      "You entered a number greater than 6\n",
      "press q to quit\n",
      "Enter a number:-q\n",
      "Thanks for playing this game\n"
     ]
    }
   ],
   "source": [
    "while(True):\n",
    "    print(\"press q to quit\")\n",
    "    a = input(\"Enter a number:-\")\n",
    "    if a == 'q':\n",
    "        break\n",
    "    a = int(a)    \n",
    "    if a>6:\n",
    "        print(\"You entered a number greater than 6\")\n",
    "print(\"Thanks for playing this game\")"
   ]
  },
  {
   "cell_type": "code",
   "execution_count": 7,
   "id": "e18992b2",
   "metadata": {},
   "outputs": [
    {
     "name": "stdout",
     "output_type": "stream",
     "text": [
      "press q to quit\n",
      "Enter a number:-8\n",
      "Trying....\n",
      "You entered a number greater than 6\n",
      "press q to quit\n",
      "Enter a number:-5\n",
      "Trying....\n",
      "press q to quit\n",
      "Enter a number:-lucy\n",
      "Trying....\n",
      "Your input resulted in an errorinvalid literal for int() with base 10: 'lucy'\n",
      "press q to quit\n",
      "Enter a number:-q\n",
      "Thanks for playing this game\n"
     ]
    }
   ],
   "source": [
    "#Error handling\n",
    "while(True):\n",
    "    print(\"press q to quit\")\n",
    "    a = input(\"Enter a number:-\")\n",
    "    if a == 'q':\n",
    "        break\n",
    "    try:\n",
    "        print(\"Trying....\")\n",
    "        a = int(a)    \n",
    "        if a>6:\n",
    "            print(\"You entered a number greater than 6\")\n",
    "    except Exception as e:\n",
    "        print(f\"Your input resulted in an error{e}\")\n",
    "print(\"Thanks for playing this game\")"
   ]
  },
  {
   "cell_type": "code",
   "execution_count": null,
   "id": "7a0f9ce7",
   "metadata": {},
   "outputs": [],
   "source": []
  }
 ],
 "metadata": {
  "kernelspec": {
   "display_name": "Python 3 (ipykernel)",
   "language": "python",
   "name": "python3"
  },
  "language_info": {
   "codemirror_mode": {
    "name": "ipython",
    "version": 3
   },
   "file_extension": ".py",
   "mimetype": "text/x-python",
   "name": "python",
   "nbconvert_exporter": "python",
   "pygments_lexer": "ipython3",
   "version": "3.9.7"
  }
 },
 "nbformat": 4,
 "nbformat_minor": 5
}
